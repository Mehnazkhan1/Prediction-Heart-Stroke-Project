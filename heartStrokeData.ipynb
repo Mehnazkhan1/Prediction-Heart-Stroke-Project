{
 "cells": [
  {
   "cell_type": "markdown",
   "id": "31b34ff5-f0c7-45cb-b6d5-bf7f420445f2",
   "metadata": {},
   "source": [
    "# My Data Set"
   ]
  },
  {
   "cell_type": "markdown",
   "id": "361a1a15-5641-4426-b069-dc3e76b3ae72",
   "metadata": {},
   "source": [
    "#### My datset is about predicting heart stroke. It has 12 columns and 5111 rows. It has different medical conditions which can relate to heart stroke.\n",
    "#### I wil do some analysis to figure out main reason of heart stroke and correlation between them.\n",
    "##### Source of data: https://www.kaggle.com/code/joshuaswords/predicting-a-stroke-shap-lime-explainer-eli5/data\""
   ]
  },
  {
   "cell_type": "markdown",
   "id": "c398d7e5-e524-49d3-a910-20a71ee8e308",
   "metadata": {},
   "source": [
    "# My Questions are\n",
    "#### Q1-  Who have more number of strokes among men and women?\n",
    "#### Q2- What could be the main reasons of heart stroke?\n",
    "#### Q-3 What is the correlation between Stroke & other factors?\n",
    "#### Q-4 What age group has more number of Stroke?\n",
    "#### Q-5 What is the max age of people who have heart stroke?"
   ]
  },
  {
   "cell_type": "markdown",
   "id": "07f48de9-be68-45bd-934d-ca193d30c5c3",
   "metadata": {},
   "source": [
    "# My Hypothesis"
   ]
  },
  {
   "cell_type": "markdown",
   "id": "8e6a9e8f-aaa7-4f36-a640-47ba60f17641",
   "metadata": {},
   "source": [
    "#### My hypothesis is that people who smoke more are more prone to have heart stroke."
   ]
  },
  {
   "cell_type": "code",
   "execution_count": 1,
   "id": "2e855a00-e0df-4464-b7c3-fae3780d8be7",
   "metadata": {},
   "outputs": [
    {
     "data": {
      "text/html": [
       "<div>\n",
       "<style scoped>\n",
       "    .dataframe tbody tr th:only-of-type {\n",
       "        vertical-align: middle;\n",
       "    }\n",
       "\n",
       "    .dataframe tbody tr th {\n",
       "        vertical-align: top;\n",
       "    }\n",
       "\n",
       "    .dataframe thead th {\n",
       "        text-align: right;\n",
       "    }\n",
       "</style>\n",
       "<table border=\"1\" class=\"dataframe\">\n",
       "  <thead>\n",
       "    <tr style=\"text-align: right;\">\n",
       "      <th></th>\n",
       "      <th>id</th>\n",
       "      <th>gender</th>\n",
       "      <th>age</th>\n",
       "      <th>hypertension</th>\n",
       "      <th>heart_disease</th>\n",
       "      <th>ever_married</th>\n",
       "      <th>work_type</th>\n",
       "      <th>Residence_type</th>\n",
       "      <th>avg_glucose_level</th>\n",
       "      <th>bmi</th>\n",
       "      <th>smoking_status</th>\n",
       "      <th>stroke</th>\n",
       "    </tr>\n",
       "  </thead>\n",
       "  <tbody>\n",
       "    <tr>\n",
       "      <th>0</th>\n",
       "      <td>9046</td>\n",
       "      <td>Male</td>\n",
       "      <td>67.0</td>\n",
       "      <td>0</td>\n",
       "      <td>1</td>\n",
       "      <td>Yes</td>\n",
       "      <td>Private</td>\n",
       "      <td>Urban</td>\n",
       "      <td>228.69</td>\n",
       "      <td>36.6</td>\n",
       "      <td>formerly smoked</td>\n",
       "      <td>1</td>\n",
       "    </tr>\n",
       "    <tr>\n",
       "      <th>1</th>\n",
       "      <td>51676</td>\n",
       "      <td>Female</td>\n",
       "      <td>61.0</td>\n",
       "      <td>0</td>\n",
       "      <td>0</td>\n",
       "      <td>Yes</td>\n",
       "      <td>Self-employed</td>\n",
       "      <td>Rural</td>\n",
       "      <td>202.21</td>\n",
       "      <td>NaN</td>\n",
       "      <td>never smoked</td>\n",
       "      <td>1</td>\n",
       "    </tr>\n",
       "    <tr>\n",
       "      <th>2</th>\n",
       "      <td>31112</td>\n",
       "      <td>Male</td>\n",
       "      <td>80.0</td>\n",
       "      <td>0</td>\n",
       "      <td>1</td>\n",
       "      <td>Yes</td>\n",
       "      <td>Private</td>\n",
       "      <td>Rural</td>\n",
       "      <td>105.92</td>\n",
       "      <td>32.5</td>\n",
       "      <td>never smoked</td>\n",
       "      <td>1</td>\n",
       "    </tr>\n",
       "    <tr>\n",
       "      <th>3</th>\n",
       "      <td>60182</td>\n",
       "      <td>Female</td>\n",
       "      <td>49.0</td>\n",
       "      <td>0</td>\n",
       "      <td>0</td>\n",
       "      <td>Yes</td>\n",
       "      <td>Private</td>\n",
       "      <td>Urban</td>\n",
       "      <td>171.23</td>\n",
       "      <td>34.4</td>\n",
       "      <td>smokes</td>\n",
       "      <td>1</td>\n",
       "    </tr>\n",
       "    <tr>\n",
       "      <th>4</th>\n",
       "      <td>1665</td>\n",
       "      <td>Female</td>\n",
       "      <td>79.0</td>\n",
       "      <td>1</td>\n",
       "      <td>0</td>\n",
       "      <td>Yes</td>\n",
       "      <td>Self-employed</td>\n",
       "      <td>Rural</td>\n",
       "      <td>174.12</td>\n",
       "      <td>24.0</td>\n",
       "      <td>never smoked</td>\n",
       "      <td>1</td>\n",
       "    </tr>\n",
       "  </tbody>\n",
       "</table>\n",
       "</div>"
      ],
      "text/plain": [
       "      id  gender   age  hypertension  heart_disease ever_married  \\\n",
       "0   9046    Male  67.0             0              1          Yes   \n",
       "1  51676  Female  61.0             0              0          Yes   \n",
       "2  31112    Male  80.0             0              1          Yes   \n",
       "3  60182  Female  49.0             0              0          Yes   \n",
       "4   1665  Female  79.0             1              0          Yes   \n",
       "\n",
       "       work_type Residence_type  avg_glucose_level   bmi   smoking_status  \\\n",
       "0        Private          Urban             228.69  36.6  formerly smoked   \n",
       "1  Self-employed          Rural             202.21   NaN     never smoked   \n",
       "2        Private          Rural             105.92  32.5     never smoked   \n",
       "3        Private          Urban             171.23  34.4           smokes   \n",
       "4  Self-employed          Rural             174.12  24.0     never smoked   \n",
       "\n",
       "   stroke  \n",
       "0       1  \n",
       "1       1  \n",
       "2       1  \n",
       "3       1  \n",
       "4       1  "
      ]
     },
     "execution_count": 1,
     "metadata": {},
     "output_type": "execute_result"
    }
   ],
   "source": [
    "import pandas as pd   # I am using pandas library to work on csv file\n",
    "import numpy as np\n",
    "import seaborn as sns\n",
    "import matplotlib.pyplot as plt\n",
    "\n",
    "\n",
    "df = pd.read_csv('./python,VS/healthcare-dataset-stroke-data.csv')  # here i gave variable to my file df to my file and i used red_csv from pandas to read csv file\n",
    "\n",
    "df = df[df['gender'].isin(['Male', 'Female'])]  # i have only 1 value for other in gender column so i choose only male and female values to work with\n",
    "df.head() #it will show how many rows you want to see. \n"
   ]
  },
  {
   "cell_type": "markdown",
   "id": "b1f4decc-6669-4c27-b5e0-9eb8ba45cc29",
   "metadata": {
    "tags": []
   },
   "source": [
    "## Cleaning Data"
   ]
  },
  {
   "cell_type": "code",
   "execution_count": 2,
   "id": "cc108486-ed36-4c6e-9c75-360d9d2d0bd3",
   "metadata": {},
   "outputs": [
    {
     "name": "stdout",
     "output_type": "stream",
     "text": [
      "<class 'pandas.core.frame.DataFrame'>\n",
      "Int64Index: 5109 entries, 0 to 5109\n",
      "Data columns (total 12 columns):\n",
      " #   Column             Non-Null Count  Dtype  \n",
      "---  ------             --------------  -----  \n",
      " 0   id                 5109 non-null   int64  \n",
      " 1   gender             5109 non-null   object \n",
      " 2   age                5109 non-null   float64\n",
      " 3   hypertension       5109 non-null   int64  \n",
      " 4   heart_disease      5109 non-null   int64  \n",
      " 5   ever_married       5109 non-null   object \n",
      " 6   work_type          5109 non-null   object \n",
      " 7   Residence_type     5109 non-null   object \n",
      " 8   avg_glucose_level  5109 non-null   float64\n",
      " 9   bmi                4908 non-null   float64\n",
      " 10  smoking_status     5109 non-null   object \n",
      " 11  stroke             5109 non-null   int64  \n",
      "dtypes: float64(3), int64(4), object(5)\n",
      "memory usage: 518.9+ KB\n"
     ]
    }
   ],
   "source": [
    "df.info() # Here is the data detail. type of data, null and no null values columns"
   ]
  },
  {
   "cell_type": "code",
   "execution_count": 3,
   "id": "18c0fd4f-432b-47c4-911a-d46488775fd2",
   "metadata": {},
   "outputs": [
    {
     "data": {
      "text/plain": [
       "0    formerly smoked\n",
       "1       never smoked\n",
       "3             smokes\n",
       "8            Unknown\n",
       "Name: smoking_status, dtype: object"
      ]
     },
     "execution_count": 3,
     "metadata": {},
     "output_type": "execute_result"
    }
   ],
   "source": [
    "df[\"smoking_status\"].drop_duplicates() # Checking what values i have in my smoking_status column so i am using .drop_duplicate method for avoiding repitation of values\n"
   ]
  },
  {
   "cell_type": "markdown",
   "id": "0b7861ad-e39a-46a1-9e79-6df34cd67df4",
   "metadata": {},
   "source": [
    "#### One of the potential issues i discovered is the smoking status being unknown is not clear. To my knowledge person either smokes or does not smokes. I am assuming that under unknow person does not smoke."
   ]
  },
  {
   "cell_type": "code",
   "execution_count": 4,
   "id": "3b3184c2-c652-4ffe-a2c5-732d331fb6cd",
   "metadata": {},
   "outputs": [
    {
     "data": {
      "text/html": [
       "<div>\n",
       "<style scoped>\n",
       "    .dataframe tbody tr th:only-of-type {\n",
       "        vertical-align: middle;\n",
       "    }\n",
       "\n",
       "    .dataframe tbody tr th {\n",
       "        vertical-align: top;\n",
       "    }\n",
       "\n",
       "    .dataframe thead th {\n",
       "        text-align: right;\n",
       "    }\n",
       "</style>\n",
       "<table border=\"1\" class=\"dataframe\">\n",
       "  <thead>\n",
       "    <tr style=\"text-align: right;\">\n",
       "      <th></th>\n",
       "      <th>id</th>\n",
       "      <th>gender</th>\n",
       "      <th>age</th>\n",
       "      <th>hypertension</th>\n",
       "      <th>heart_disease</th>\n",
       "      <th>ever_married</th>\n",
       "      <th>work_type</th>\n",
       "      <th>Residence_type</th>\n",
       "      <th>avg_glucose_level</th>\n",
       "      <th>bmi</th>\n",
       "      <th>smoking_status</th>\n",
       "      <th>stroke</th>\n",
       "    </tr>\n",
       "  </thead>\n",
       "  <tbody>\n",
       "    <tr>\n",
       "      <th>0</th>\n",
       "      <td>9046</td>\n",
       "      <td>Male</td>\n",
       "      <td>67.0</td>\n",
       "      <td>0</td>\n",
       "      <td>1</td>\n",
       "      <td>Yes</td>\n",
       "      <td>Private</td>\n",
       "      <td>Urban</td>\n",
       "      <td>228.69</td>\n",
       "      <td>36.6</td>\n",
       "      <td>1</td>\n",
       "      <td>1</td>\n",
       "    </tr>\n",
       "    <tr>\n",
       "      <th>1</th>\n",
       "      <td>51676</td>\n",
       "      <td>Female</td>\n",
       "      <td>61.0</td>\n",
       "      <td>0</td>\n",
       "      <td>0</td>\n",
       "      <td>Yes</td>\n",
       "      <td>Self-employed</td>\n",
       "      <td>Rural</td>\n",
       "      <td>202.21</td>\n",
       "      <td>NaN</td>\n",
       "      <td>0</td>\n",
       "      <td>1</td>\n",
       "    </tr>\n",
       "    <tr>\n",
       "      <th>2</th>\n",
       "      <td>31112</td>\n",
       "      <td>Male</td>\n",
       "      <td>80.0</td>\n",
       "      <td>0</td>\n",
       "      <td>1</td>\n",
       "      <td>Yes</td>\n",
       "      <td>Private</td>\n",
       "      <td>Rural</td>\n",
       "      <td>105.92</td>\n",
       "      <td>32.5</td>\n",
       "      <td>0</td>\n",
       "      <td>1</td>\n",
       "    </tr>\n",
       "    <tr>\n",
       "      <th>3</th>\n",
       "      <td>60182</td>\n",
       "      <td>Female</td>\n",
       "      <td>49.0</td>\n",
       "      <td>0</td>\n",
       "      <td>0</td>\n",
       "      <td>Yes</td>\n",
       "      <td>Private</td>\n",
       "      <td>Urban</td>\n",
       "      <td>171.23</td>\n",
       "      <td>34.4</td>\n",
       "      <td>1</td>\n",
       "      <td>1</td>\n",
       "    </tr>\n",
       "    <tr>\n",
       "      <th>4</th>\n",
       "      <td>1665</td>\n",
       "      <td>Female</td>\n",
       "      <td>79.0</td>\n",
       "      <td>1</td>\n",
       "      <td>0</td>\n",
       "      <td>Yes</td>\n",
       "      <td>Self-employed</td>\n",
       "      <td>Rural</td>\n",
       "      <td>174.12</td>\n",
       "      <td>24.0</td>\n",
       "      <td>0</td>\n",
       "      <td>1</td>\n",
       "    </tr>\n",
       "    <tr>\n",
       "      <th>...</th>\n",
       "      <td>...</td>\n",
       "      <td>...</td>\n",
       "      <td>...</td>\n",
       "      <td>...</td>\n",
       "      <td>...</td>\n",
       "      <td>...</td>\n",
       "      <td>...</td>\n",
       "      <td>...</td>\n",
       "      <td>...</td>\n",
       "      <td>...</td>\n",
       "      <td>...</td>\n",
       "      <td>...</td>\n",
       "    </tr>\n",
       "    <tr>\n",
       "      <th>5105</th>\n",
       "      <td>18234</td>\n",
       "      <td>Female</td>\n",
       "      <td>80.0</td>\n",
       "      <td>1</td>\n",
       "      <td>0</td>\n",
       "      <td>Yes</td>\n",
       "      <td>Private</td>\n",
       "      <td>Urban</td>\n",
       "      <td>83.75</td>\n",
       "      <td>NaN</td>\n",
       "      <td>0</td>\n",
       "      <td>0</td>\n",
       "    </tr>\n",
       "    <tr>\n",
       "      <th>5106</th>\n",
       "      <td>44873</td>\n",
       "      <td>Female</td>\n",
       "      <td>81.0</td>\n",
       "      <td>0</td>\n",
       "      <td>0</td>\n",
       "      <td>Yes</td>\n",
       "      <td>Self-employed</td>\n",
       "      <td>Urban</td>\n",
       "      <td>125.20</td>\n",
       "      <td>40.0</td>\n",
       "      <td>0</td>\n",
       "      <td>0</td>\n",
       "    </tr>\n",
       "    <tr>\n",
       "      <th>5107</th>\n",
       "      <td>19723</td>\n",
       "      <td>Female</td>\n",
       "      <td>35.0</td>\n",
       "      <td>0</td>\n",
       "      <td>0</td>\n",
       "      <td>Yes</td>\n",
       "      <td>Self-employed</td>\n",
       "      <td>Rural</td>\n",
       "      <td>82.99</td>\n",
       "      <td>30.6</td>\n",
       "      <td>0</td>\n",
       "      <td>0</td>\n",
       "    </tr>\n",
       "    <tr>\n",
       "      <th>5108</th>\n",
       "      <td>37544</td>\n",
       "      <td>Male</td>\n",
       "      <td>51.0</td>\n",
       "      <td>0</td>\n",
       "      <td>0</td>\n",
       "      <td>Yes</td>\n",
       "      <td>Private</td>\n",
       "      <td>Rural</td>\n",
       "      <td>166.29</td>\n",
       "      <td>25.6</td>\n",
       "      <td>1</td>\n",
       "      <td>0</td>\n",
       "    </tr>\n",
       "    <tr>\n",
       "      <th>5109</th>\n",
       "      <td>44679</td>\n",
       "      <td>Female</td>\n",
       "      <td>44.0</td>\n",
       "      <td>0</td>\n",
       "      <td>0</td>\n",
       "      <td>Yes</td>\n",
       "      <td>Govt_job</td>\n",
       "      <td>Urban</td>\n",
       "      <td>85.28</td>\n",
       "      <td>26.2</td>\n",
       "      <td>0</td>\n",
       "      <td>0</td>\n",
       "    </tr>\n",
       "  </tbody>\n",
       "</table>\n",
       "<p>5109 rows × 12 columns</p>\n",
       "</div>"
      ],
      "text/plain": [
       "         id  gender   age  hypertension  heart_disease ever_married  \\\n",
       "0      9046    Male  67.0             0              1          Yes   \n",
       "1     51676  Female  61.0             0              0          Yes   \n",
       "2     31112    Male  80.0             0              1          Yes   \n",
       "3     60182  Female  49.0             0              0          Yes   \n",
       "4      1665  Female  79.0             1              0          Yes   \n",
       "...     ...     ...   ...           ...            ...          ...   \n",
       "5105  18234  Female  80.0             1              0          Yes   \n",
       "5106  44873  Female  81.0             0              0          Yes   \n",
       "5107  19723  Female  35.0             0              0          Yes   \n",
       "5108  37544    Male  51.0             0              0          Yes   \n",
       "5109  44679  Female  44.0             0              0          Yes   \n",
       "\n",
       "          work_type Residence_type  avg_glucose_level   bmi  smoking_status  \\\n",
       "0           Private          Urban             228.69  36.6               1   \n",
       "1     Self-employed          Rural             202.21   NaN               0   \n",
       "2           Private          Rural             105.92  32.5               0   \n",
       "3           Private          Urban             171.23  34.4               1   \n",
       "4     Self-employed          Rural             174.12  24.0               0   \n",
       "...             ...            ...                ...   ...             ...   \n",
       "5105        Private          Urban              83.75   NaN               0   \n",
       "5106  Self-employed          Urban             125.20  40.0               0   \n",
       "5107  Self-employed          Rural              82.99  30.6               0   \n",
       "5108        Private          Rural             166.29  25.6               1   \n",
       "5109       Govt_job          Urban              85.28  26.2               0   \n",
       "\n",
       "      stroke  \n",
       "0          1  \n",
       "1          1  \n",
       "2          1  \n",
       "3          1  \n",
       "4          1  \n",
       "...      ...  \n",
       "5105       0  \n",
       "5106       0  \n",
       "5107       0  \n",
       "5108       0  \n",
       "5109       0  \n",
       "\n",
       "[5109 rows x 12 columns]"
      ]
     },
     "execution_count": 4,
     "metadata": {},
     "output_type": "execute_result"
    }
   ],
   "source": [
    "value_conversion = {'formerly smoked': 1, 'never smoked': 0, 'smokes': 1, 'Unknown':0} # i am converting my values into number value so i can easily calculate them later\n",
    "df['smoking_status'] = df['smoking_status'].map(value_conversion)  #i am using .map() method to apply my change on smoking_status column\n",
    "\n",
    "df.head(5111)   #checking rows again to see the change i made."
   ]
  },
  {
   "cell_type": "code",
   "execution_count": 5,
   "id": "6de224a9-f5de-4d5f-bae4-a2e7f7d03214",
   "metadata": {},
   "outputs": [
    {
     "data": {
      "text/plain": [
       "0    Urban\n",
       "1    Rural\n",
       "Name: Residence_type, dtype: object"
      ]
     },
     "execution_count": 5,
     "metadata": {},
     "output_type": "execute_result"
    }
   ],
   "source": [
    "df[\"Residence_type\"].drop_duplicates() # here i am checking values in my Residence_type column. Another item i want to see is residence type for further analysis."
   ]
  },
  {
   "cell_type": "code",
   "execution_count": 6,
   "id": "2d8093af-28f3-444f-89bf-9067524ad2e0",
   "metadata": {},
   "outputs": [
    {
     "data": {
      "text/html": [
       "<div>\n",
       "<style scoped>\n",
       "    .dataframe tbody tr th:only-of-type {\n",
       "        vertical-align: middle;\n",
       "    }\n",
       "\n",
       "    .dataframe tbody tr th {\n",
       "        vertical-align: top;\n",
       "    }\n",
       "\n",
       "    .dataframe thead th {\n",
       "        text-align: right;\n",
       "    }\n",
       "</style>\n",
       "<table border=\"1\" class=\"dataframe\">\n",
       "  <thead>\n",
       "    <tr style=\"text-align: right;\">\n",
       "      <th></th>\n",
       "      <th>id</th>\n",
       "      <th>gender</th>\n",
       "      <th>age</th>\n",
       "      <th>hypertension</th>\n",
       "      <th>heart_disease</th>\n",
       "      <th>ever_married</th>\n",
       "      <th>work_type</th>\n",
       "      <th>Residence_type</th>\n",
       "      <th>avg_glucose_level</th>\n",
       "      <th>bmi</th>\n",
       "      <th>smoking_status</th>\n",
       "      <th>stroke</th>\n",
       "      <th>Urban</th>\n",
       "      <th>Rural</th>\n",
       "    </tr>\n",
       "  </thead>\n",
       "  <tbody>\n",
       "    <tr>\n",
       "      <th>0</th>\n",
       "      <td>9046</td>\n",
       "      <td>Male</td>\n",
       "      <td>67.0</td>\n",
       "      <td>0</td>\n",
       "      <td>1</td>\n",
       "      <td>Yes</td>\n",
       "      <td>Private</td>\n",
       "      <td>Urban</td>\n",
       "      <td>228.69</td>\n",
       "      <td>36.6</td>\n",
       "      <td>1</td>\n",
       "      <td>1</td>\n",
       "      <td>1.0</td>\n",
       "      <td>NaN</td>\n",
       "    </tr>\n",
       "    <tr>\n",
       "      <th>1</th>\n",
       "      <td>51676</td>\n",
       "      <td>Female</td>\n",
       "      <td>61.0</td>\n",
       "      <td>0</td>\n",
       "      <td>0</td>\n",
       "      <td>Yes</td>\n",
       "      <td>Self-employed</td>\n",
       "      <td>Rural</td>\n",
       "      <td>202.21</td>\n",
       "      <td>NaN</td>\n",
       "      <td>0</td>\n",
       "      <td>1</td>\n",
       "      <td>NaN</td>\n",
       "      <td>1.0</td>\n",
       "    </tr>\n",
       "    <tr>\n",
       "      <th>2</th>\n",
       "      <td>31112</td>\n",
       "      <td>Male</td>\n",
       "      <td>80.0</td>\n",
       "      <td>0</td>\n",
       "      <td>1</td>\n",
       "      <td>Yes</td>\n",
       "      <td>Private</td>\n",
       "      <td>Rural</td>\n",
       "      <td>105.92</td>\n",
       "      <td>32.5</td>\n",
       "      <td>0</td>\n",
       "      <td>1</td>\n",
       "      <td>NaN</td>\n",
       "      <td>1.0</td>\n",
       "    </tr>\n",
       "    <tr>\n",
       "      <th>3</th>\n",
       "      <td>60182</td>\n",
       "      <td>Female</td>\n",
       "      <td>49.0</td>\n",
       "      <td>0</td>\n",
       "      <td>0</td>\n",
       "      <td>Yes</td>\n",
       "      <td>Private</td>\n",
       "      <td>Urban</td>\n",
       "      <td>171.23</td>\n",
       "      <td>34.4</td>\n",
       "      <td>1</td>\n",
       "      <td>1</td>\n",
       "      <td>1.0</td>\n",
       "      <td>NaN</td>\n",
       "    </tr>\n",
       "    <tr>\n",
       "      <th>4</th>\n",
       "      <td>1665</td>\n",
       "      <td>Female</td>\n",
       "      <td>79.0</td>\n",
       "      <td>1</td>\n",
       "      <td>0</td>\n",
       "      <td>Yes</td>\n",
       "      <td>Self-employed</td>\n",
       "      <td>Rural</td>\n",
       "      <td>174.12</td>\n",
       "      <td>24.0</td>\n",
       "      <td>0</td>\n",
       "      <td>1</td>\n",
       "      <td>NaN</td>\n",
       "      <td>1.0</td>\n",
       "    </tr>\n",
       "  </tbody>\n",
       "</table>\n",
       "</div>"
      ],
      "text/plain": [
       "      id  gender   age  hypertension  heart_disease ever_married  \\\n",
       "0   9046    Male  67.0             0              1          Yes   \n",
       "1  51676  Female  61.0             0              0          Yes   \n",
       "2  31112    Male  80.0             0              1          Yes   \n",
       "3  60182  Female  49.0             0              0          Yes   \n",
       "4   1665  Female  79.0             1              0          Yes   \n",
       "\n",
       "       work_type Residence_type  avg_glucose_level   bmi  smoking_status  \\\n",
       "0        Private          Urban             228.69  36.6               1   \n",
       "1  Self-employed          Rural             202.21   NaN               0   \n",
       "2        Private          Rural             105.92  32.5               0   \n",
       "3        Private          Urban             171.23  34.4               1   \n",
       "4  Self-employed          Rural             174.12  24.0               0   \n",
       "\n",
       "   stroke  Urban  Rural  \n",
       "0       1    1.0    NaN  \n",
       "1       1    NaN    1.0  \n",
       "2       1    NaN    1.0  \n",
       "3       1    1.0    NaN  \n",
       "4       1    NaN    1.0  "
      ]
     },
     "execution_count": 6,
     "metadata": {},
     "output_type": "execute_result"
    }
   ],
   "source": [
    "urban_res = {'Urban':1} # i am giving number to my values for calculation purpose. Also i am giving these values a new variable for creating new columns\n",
    "rural_res = {'Rural':1}\n",
    "\n",
    "df[\"Urban\"] = df['Residence_type'].map(urban_res)   #Adding new column to my data\n",
    "df[\"Rural\"] = df['Residence_type'].map(rural_res)   #Adding new column to my data\n",
    "\n",
    "df.head() #printing rows agin to check the success of my change"
   ]
  },
  {
   "cell_type": "code",
   "execution_count": 7,
   "id": "6a5d64ef-90ac-4289-8567-cacc2a2d0a03",
   "metadata": {},
   "outputs": [],
   "source": [
    "df.fillna({'Urban': 0, 'Rural': 0}, inplace=True) # Its changing NaN value to 0 in Urban & Rural columns"
   ]
  },
  {
   "cell_type": "code",
   "execution_count": 8,
   "id": "00a06652-d20b-47b9-b46f-5a04d38e41ab",
   "metadata": {},
   "outputs": [
    {
     "data": {
      "text/html": [
       "<div>\n",
       "<style scoped>\n",
       "    .dataframe tbody tr th:only-of-type {\n",
       "        vertical-align: middle;\n",
       "    }\n",
       "\n",
       "    .dataframe tbody tr th {\n",
       "        vertical-align: top;\n",
       "    }\n",
       "\n",
       "    .dataframe thead th {\n",
       "        text-align: right;\n",
       "    }\n",
       "</style>\n",
       "<table border=\"1\" class=\"dataframe\">\n",
       "  <thead>\n",
       "    <tr style=\"text-align: right;\">\n",
       "      <th></th>\n",
       "      <th>id</th>\n",
       "      <th>gender</th>\n",
       "      <th>age</th>\n",
       "      <th>hypertension</th>\n",
       "      <th>heart_disease</th>\n",
       "      <th>ever_married</th>\n",
       "      <th>work_type</th>\n",
       "      <th>Residence_type</th>\n",
       "      <th>avg_glucose_level</th>\n",
       "      <th>bmi</th>\n",
       "      <th>smoking_status</th>\n",
       "      <th>stroke</th>\n",
       "      <th>Urban</th>\n",
       "      <th>Rural</th>\n",
       "    </tr>\n",
       "  </thead>\n",
       "  <tbody>\n",
       "    <tr>\n",
       "      <th>0</th>\n",
       "      <td>9046</td>\n",
       "      <td>Male</td>\n",
       "      <td>67.0</td>\n",
       "      <td>0</td>\n",
       "      <td>1</td>\n",
       "      <td>Yes</td>\n",
       "      <td>Private</td>\n",
       "      <td>Urban</td>\n",
       "      <td>228.69</td>\n",
       "      <td>36.6</td>\n",
       "      <td>1</td>\n",
       "      <td>1</td>\n",
       "      <td>1.0</td>\n",
       "      <td>0.0</td>\n",
       "    </tr>\n",
       "    <tr>\n",
       "      <th>1</th>\n",
       "      <td>51676</td>\n",
       "      <td>Female</td>\n",
       "      <td>61.0</td>\n",
       "      <td>0</td>\n",
       "      <td>0</td>\n",
       "      <td>Yes</td>\n",
       "      <td>Self-employed</td>\n",
       "      <td>Rural</td>\n",
       "      <td>202.21</td>\n",
       "      <td>NaN</td>\n",
       "      <td>0</td>\n",
       "      <td>1</td>\n",
       "      <td>0.0</td>\n",
       "      <td>1.0</td>\n",
       "    </tr>\n",
       "    <tr>\n",
       "      <th>2</th>\n",
       "      <td>31112</td>\n",
       "      <td>Male</td>\n",
       "      <td>80.0</td>\n",
       "      <td>0</td>\n",
       "      <td>1</td>\n",
       "      <td>Yes</td>\n",
       "      <td>Private</td>\n",
       "      <td>Rural</td>\n",
       "      <td>105.92</td>\n",
       "      <td>32.5</td>\n",
       "      <td>0</td>\n",
       "      <td>1</td>\n",
       "      <td>0.0</td>\n",
       "      <td>1.0</td>\n",
       "    </tr>\n",
       "    <tr>\n",
       "      <th>3</th>\n",
       "      <td>60182</td>\n",
       "      <td>Female</td>\n",
       "      <td>49.0</td>\n",
       "      <td>0</td>\n",
       "      <td>0</td>\n",
       "      <td>Yes</td>\n",
       "      <td>Private</td>\n",
       "      <td>Urban</td>\n",
       "      <td>171.23</td>\n",
       "      <td>34.4</td>\n",
       "      <td>1</td>\n",
       "      <td>1</td>\n",
       "      <td>1.0</td>\n",
       "      <td>0.0</td>\n",
       "    </tr>\n",
       "    <tr>\n",
       "      <th>4</th>\n",
       "      <td>1665</td>\n",
       "      <td>Female</td>\n",
       "      <td>79.0</td>\n",
       "      <td>1</td>\n",
       "      <td>0</td>\n",
       "      <td>Yes</td>\n",
       "      <td>Self-employed</td>\n",
       "      <td>Rural</td>\n",
       "      <td>174.12</td>\n",
       "      <td>24.0</td>\n",
       "      <td>0</td>\n",
       "      <td>1</td>\n",
       "      <td>0.0</td>\n",
       "      <td>1.0</td>\n",
       "    </tr>\n",
       "    <tr>\n",
       "      <th>...</th>\n",
       "      <td>...</td>\n",
       "      <td>...</td>\n",
       "      <td>...</td>\n",
       "      <td>...</td>\n",
       "      <td>...</td>\n",
       "      <td>...</td>\n",
       "      <td>...</td>\n",
       "      <td>...</td>\n",
       "      <td>...</td>\n",
       "      <td>...</td>\n",
       "      <td>...</td>\n",
       "      <td>...</td>\n",
       "      <td>...</td>\n",
       "      <td>...</td>\n",
       "    </tr>\n",
       "    <tr>\n",
       "      <th>5105</th>\n",
       "      <td>18234</td>\n",
       "      <td>Female</td>\n",
       "      <td>80.0</td>\n",
       "      <td>1</td>\n",
       "      <td>0</td>\n",
       "      <td>Yes</td>\n",
       "      <td>Private</td>\n",
       "      <td>Urban</td>\n",
       "      <td>83.75</td>\n",
       "      <td>NaN</td>\n",
       "      <td>0</td>\n",
       "      <td>0</td>\n",
       "      <td>1.0</td>\n",
       "      <td>0.0</td>\n",
       "    </tr>\n",
       "    <tr>\n",
       "      <th>5106</th>\n",
       "      <td>44873</td>\n",
       "      <td>Female</td>\n",
       "      <td>81.0</td>\n",
       "      <td>0</td>\n",
       "      <td>0</td>\n",
       "      <td>Yes</td>\n",
       "      <td>Self-employed</td>\n",
       "      <td>Urban</td>\n",
       "      <td>125.20</td>\n",
       "      <td>40.0</td>\n",
       "      <td>0</td>\n",
       "      <td>0</td>\n",
       "      <td>1.0</td>\n",
       "      <td>0.0</td>\n",
       "    </tr>\n",
       "    <tr>\n",
       "      <th>5107</th>\n",
       "      <td>19723</td>\n",
       "      <td>Female</td>\n",
       "      <td>35.0</td>\n",
       "      <td>0</td>\n",
       "      <td>0</td>\n",
       "      <td>Yes</td>\n",
       "      <td>Self-employed</td>\n",
       "      <td>Rural</td>\n",
       "      <td>82.99</td>\n",
       "      <td>30.6</td>\n",
       "      <td>0</td>\n",
       "      <td>0</td>\n",
       "      <td>0.0</td>\n",
       "      <td>1.0</td>\n",
       "    </tr>\n",
       "    <tr>\n",
       "      <th>5108</th>\n",
       "      <td>37544</td>\n",
       "      <td>Male</td>\n",
       "      <td>51.0</td>\n",
       "      <td>0</td>\n",
       "      <td>0</td>\n",
       "      <td>Yes</td>\n",
       "      <td>Private</td>\n",
       "      <td>Rural</td>\n",
       "      <td>166.29</td>\n",
       "      <td>25.6</td>\n",
       "      <td>1</td>\n",
       "      <td>0</td>\n",
       "      <td>0.0</td>\n",
       "      <td>1.0</td>\n",
       "    </tr>\n",
       "    <tr>\n",
       "      <th>5109</th>\n",
       "      <td>44679</td>\n",
       "      <td>Female</td>\n",
       "      <td>44.0</td>\n",
       "      <td>0</td>\n",
       "      <td>0</td>\n",
       "      <td>Yes</td>\n",
       "      <td>Govt_job</td>\n",
       "      <td>Urban</td>\n",
       "      <td>85.28</td>\n",
       "      <td>26.2</td>\n",
       "      <td>0</td>\n",
       "      <td>0</td>\n",
       "      <td>1.0</td>\n",
       "      <td>0.0</td>\n",
       "    </tr>\n",
       "  </tbody>\n",
       "</table>\n",
       "<p>5109 rows × 14 columns</p>\n",
       "</div>"
      ],
      "text/plain": [
       "         id  gender   age  hypertension  heart_disease ever_married  \\\n",
       "0      9046    Male  67.0             0              1          Yes   \n",
       "1     51676  Female  61.0             0              0          Yes   \n",
       "2     31112    Male  80.0             0              1          Yes   \n",
       "3     60182  Female  49.0             0              0          Yes   \n",
       "4      1665  Female  79.0             1              0          Yes   \n",
       "...     ...     ...   ...           ...            ...          ...   \n",
       "5105  18234  Female  80.0             1              0          Yes   \n",
       "5106  44873  Female  81.0             0              0          Yes   \n",
       "5107  19723  Female  35.0             0              0          Yes   \n",
       "5108  37544    Male  51.0             0              0          Yes   \n",
       "5109  44679  Female  44.0             0              0          Yes   \n",
       "\n",
       "          work_type Residence_type  avg_glucose_level   bmi  smoking_status  \\\n",
       "0           Private          Urban             228.69  36.6               1   \n",
       "1     Self-employed          Rural             202.21   NaN               0   \n",
       "2           Private          Rural             105.92  32.5               0   \n",
       "3           Private          Urban             171.23  34.4               1   \n",
       "4     Self-employed          Rural             174.12  24.0               0   \n",
       "...             ...            ...                ...   ...             ...   \n",
       "5105        Private          Urban              83.75   NaN               0   \n",
       "5106  Self-employed          Urban             125.20  40.0               0   \n",
       "5107  Self-employed          Rural              82.99  30.6               0   \n",
       "5108        Private          Rural             166.29  25.6               1   \n",
       "5109       Govt_job          Urban              85.28  26.2               0   \n",
       "\n",
       "      stroke  Urban  Rural  \n",
       "0          1    1.0    0.0  \n",
       "1          1    0.0    1.0  \n",
       "2          1    0.0    1.0  \n",
       "3          1    1.0    0.0  \n",
       "4          1    0.0    1.0  \n",
       "...      ...    ...    ...  \n",
       "5105       0    1.0    0.0  \n",
       "5106       0    1.0    0.0  \n",
       "5107       0    0.0    1.0  \n",
       "5108       0    0.0    1.0  \n",
       "5109       0    1.0    0.0  \n",
       "\n",
       "[5109 rows x 14 columns]"
      ]
     },
     "execution_count": 8,
     "metadata": {},
     "output_type": "execute_result"
    }
   ],
   "source": [
    "df.head(5111) # printing all data"
   ]
  },
  {
   "cell_type": "code",
   "execution_count": 9,
   "id": "e283f983-d045-4d1b-9ff7-39857b59a718",
   "metadata": {},
   "outputs": [],
   "source": [
    "df.drop(columns=['Residence_type'], inplace=True) # Change is successful so deleting old column now. "
   ]
  },
  {
   "cell_type": "code",
   "execution_count": 10,
   "id": "67750d1d-7f64-4cfe-a463-6b53b1602b3b",
   "metadata": {},
   "outputs": [
    {
     "data": {
      "text/html": [
       "<div>\n",
       "<style scoped>\n",
       "    .dataframe tbody tr th:only-of-type {\n",
       "        vertical-align: middle;\n",
       "    }\n",
       "\n",
       "    .dataframe tbody tr th {\n",
       "        vertical-align: top;\n",
       "    }\n",
       "\n",
       "    .dataframe thead th {\n",
       "        text-align: right;\n",
       "    }\n",
       "</style>\n",
       "<table border=\"1\" class=\"dataframe\">\n",
       "  <thead>\n",
       "    <tr style=\"text-align: right;\">\n",
       "      <th></th>\n",
       "      <th>id</th>\n",
       "      <th>gender</th>\n",
       "      <th>age</th>\n",
       "      <th>hypertension</th>\n",
       "      <th>heart_disease</th>\n",
       "      <th>ever_married</th>\n",
       "      <th>work_type</th>\n",
       "      <th>avg_glucose_level</th>\n",
       "      <th>bmi</th>\n",
       "      <th>smoking_status</th>\n",
       "      <th>stroke</th>\n",
       "      <th>Urban</th>\n",
       "      <th>Rural</th>\n",
       "    </tr>\n",
       "  </thead>\n",
       "  <tbody>\n",
       "    <tr>\n",
       "      <th>0</th>\n",
       "      <td>9046</td>\n",
       "      <td>Male</td>\n",
       "      <td>67.0</td>\n",
       "      <td>0</td>\n",
       "      <td>1</td>\n",
       "      <td>Yes</td>\n",
       "      <td>Private</td>\n",
       "      <td>228.69</td>\n",
       "      <td>36.6</td>\n",
       "      <td>1</td>\n",
       "      <td>1</td>\n",
       "      <td>1.0</td>\n",
       "      <td>0.0</td>\n",
       "    </tr>\n",
       "    <tr>\n",
       "      <th>1</th>\n",
       "      <td>51676</td>\n",
       "      <td>Female</td>\n",
       "      <td>61.0</td>\n",
       "      <td>0</td>\n",
       "      <td>0</td>\n",
       "      <td>Yes</td>\n",
       "      <td>Self-employed</td>\n",
       "      <td>202.21</td>\n",
       "      <td>NaN</td>\n",
       "      <td>0</td>\n",
       "      <td>1</td>\n",
       "      <td>0.0</td>\n",
       "      <td>1.0</td>\n",
       "    </tr>\n",
       "    <tr>\n",
       "      <th>2</th>\n",
       "      <td>31112</td>\n",
       "      <td>Male</td>\n",
       "      <td>80.0</td>\n",
       "      <td>0</td>\n",
       "      <td>1</td>\n",
       "      <td>Yes</td>\n",
       "      <td>Private</td>\n",
       "      <td>105.92</td>\n",
       "      <td>32.5</td>\n",
       "      <td>0</td>\n",
       "      <td>1</td>\n",
       "      <td>0.0</td>\n",
       "      <td>1.0</td>\n",
       "    </tr>\n",
       "    <tr>\n",
       "      <th>3</th>\n",
       "      <td>60182</td>\n",
       "      <td>Female</td>\n",
       "      <td>49.0</td>\n",
       "      <td>0</td>\n",
       "      <td>0</td>\n",
       "      <td>Yes</td>\n",
       "      <td>Private</td>\n",
       "      <td>171.23</td>\n",
       "      <td>34.4</td>\n",
       "      <td>1</td>\n",
       "      <td>1</td>\n",
       "      <td>1.0</td>\n",
       "      <td>0.0</td>\n",
       "    </tr>\n",
       "    <tr>\n",
       "      <th>4</th>\n",
       "      <td>1665</td>\n",
       "      <td>Female</td>\n",
       "      <td>79.0</td>\n",
       "      <td>1</td>\n",
       "      <td>0</td>\n",
       "      <td>Yes</td>\n",
       "      <td>Self-employed</td>\n",
       "      <td>174.12</td>\n",
       "      <td>24.0</td>\n",
       "      <td>0</td>\n",
       "      <td>1</td>\n",
       "      <td>0.0</td>\n",
       "      <td>1.0</td>\n",
       "    </tr>\n",
       "    <tr>\n",
       "      <th>...</th>\n",
       "      <td>...</td>\n",
       "      <td>...</td>\n",
       "      <td>...</td>\n",
       "      <td>...</td>\n",
       "      <td>...</td>\n",
       "      <td>...</td>\n",
       "      <td>...</td>\n",
       "      <td>...</td>\n",
       "      <td>...</td>\n",
       "      <td>...</td>\n",
       "      <td>...</td>\n",
       "      <td>...</td>\n",
       "      <td>...</td>\n",
       "    </tr>\n",
       "    <tr>\n",
       "      <th>5105</th>\n",
       "      <td>18234</td>\n",
       "      <td>Female</td>\n",
       "      <td>80.0</td>\n",
       "      <td>1</td>\n",
       "      <td>0</td>\n",
       "      <td>Yes</td>\n",
       "      <td>Private</td>\n",
       "      <td>83.75</td>\n",
       "      <td>NaN</td>\n",
       "      <td>0</td>\n",
       "      <td>0</td>\n",
       "      <td>1.0</td>\n",
       "      <td>0.0</td>\n",
       "    </tr>\n",
       "    <tr>\n",
       "      <th>5106</th>\n",
       "      <td>44873</td>\n",
       "      <td>Female</td>\n",
       "      <td>81.0</td>\n",
       "      <td>0</td>\n",
       "      <td>0</td>\n",
       "      <td>Yes</td>\n",
       "      <td>Self-employed</td>\n",
       "      <td>125.20</td>\n",
       "      <td>40.0</td>\n",
       "      <td>0</td>\n",
       "      <td>0</td>\n",
       "      <td>1.0</td>\n",
       "      <td>0.0</td>\n",
       "    </tr>\n",
       "    <tr>\n",
       "      <th>5107</th>\n",
       "      <td>19723</td>\n",
       "      <td>Female</td>\n",
       "      <td>35.0</td>\n",
       "      <td>0</td>\n",
       "      <td>0</td>\n",
       "      <td>Yes</td>\n",
       "      <td>Self-employed</td>\n",
       "      <td>82.99</td>\n",
       "      <td>30.6</td>\n",
       "      <td>0</td>\n",
       "      <td>0</td>\n",
       "      <td>0.0</td>\n",
       "      <td>1.0</td>\n",
       "    </tr>\n",
       "    <tr>\n",
       "      <th>5108</th>\n",
       "      <td>37544</td>\n",
       "      <td>Male</td>\n",
       "      <td>51.0</td>\n",
       "      <td>0</td>\n",
       "      <td>0</td>\n",
       "      <td>Yes</td>\n",
       "      <td>Private</td>\n",
       "      <td>166.29</td>\n",
       "      <td>25.6</td>\n",
       "      <td>1</td>\n",
       "      <td>0</td>\n",
       "      <td>0.0</td>\n",
       "      <td>1.0</td>\n",
       "    </tr>\n",
       "    <tr>\n",
       "      <th>5109</th>\n",
       "      <td>44679</td>\n",
       "      <td>Female</td>\n",
       "      <td>44.0</td>\n",
       "      <td>0</td>\n",
       "      <td>0</td>\n",
       "      <td>Yes</td>\n",
       "      <td>Govt_job</td>\n",
       "      <td>85.28</td>\n",
       "      <td>26.2</td>\n",
       "      <td>0</td>\n",
       "      <td>0</td>\n",
       "      <td>1.0</td>\n",
       "      <td>0.0</td>\n",
       "    </tr>\n",
       "  </tbody>\n",
       "</table>\n",
       "<p>5109 rows × 13 columns</p>\n",
       "</div>"
      ],
      "text/plain": [
       "         id  gender   age  hypertension  heart_disease ever_married  \\\n",
       "0      9046    Male  67.0             0              1          Yes   \n",
       "1     51676  Female  61.0             0              0          Yes   \n",
       "2     31112    Male  80.0             0              1          Yes   \n",
       "3     60182  Female  49.0             0              0          Yes   \n",
       "4      1665  Female  79.0             1              0          Yes   \n",
       "...     ...     ...   ...           ...            ...          ...   \n",
       "5105  18234  Female  80.0             1              0          Yes   \n",
       "5106  44873  Female  81.0             0              0          Yes   \n",
       "5107  19723  Female  35.0             0              0          Yes   \n",
       "5108  37544    Male  51.0             0              0          Yes   \n",
       "5109  44679  Female  44.0             0              0          Yes   \n",
       "\n",
       "          work_type  avg_glucose_level   bmi  smoking_status  stroke  Urban  \\\n",
       "0           Private             228.69  36.6               1       1    1.0   \n",
       "1     Self-employed             202.21   NaN               0       1    0.0   \n",
       "2           Private             105.92  32.5               0       1    0.0   \n",
       "3           Private             171.23  34.4               1       1    1.0   \n",
       "4     Self-employed             174.12  24.0               0       1    0.0   \n",
       "...             ...                ...   ...             ...     ...    ...   \n",
       "5105        Private              83.75   NaN               0       0    1.0   \n",
       "5106  Self-employed             125.20  40.0               0       0    1.0   \n",
       "5107  Self-employed              82.99  30.6               0       0    0.0   \n",
       "5108        Private             166.29  25.6               1       0    0.0   \n",
       "5109       Govt_job              85.28  26.2               0       0    1.0   \n",
       "\n",
       "      Rural  \n",
       "0       0.0  \n",
       "1       1.0  \n",
       "2       1.0  \n",
       "3       0.0  \n",
       "4       1.0  \n",
       "...     ...  \n",
       "5105    0.0  \n",
       "5106    0.0  \n",
       "5107    1.0  \n",
       "5108    1.0  \n",
       "5109    0.0  \n",
       "\n",
       "[5109 rows x 13 columns]"
      ]
     },
     "execution_count": 10,
     "metadata": {},
     "output_type": "execute_result"
    }
   ],
   "source": [
    "df.head(5111)"
   ]
  },
  {
   "cell_type": "code",
   "execution_count": 11,
   "id": "134b4e65-6762-4e0c-9cd8-62d203c5a324",
   "metadata": {},
   "outputs": [],
   "source": [
    "value_conversion = {'Private': 1, 'Self-employed': 1, 'Govt_job': 1, 'Never_worked':0, 'children':0} #  I gave 1 value to thise who are woking and 0 for those who are not working. i am converting my values into number value so i can easily calculate them later\n",
    "df['work_type'] = df['work_type'].map(value_conversion)\n"
   ]
  },
  {
   "cell_type": "markdown",
   "id": "ee34cddc-94ef-4771-b6bc-6daee283fbfc",
   "metadata": {},
   "source": [
    "## Cleaned Data"
   ]
  },
  {
   "cell_type": "code",
   "execution_count": 12,
   "id": "43e65b51-75e4-4027-9450-fd3e1babbdc8",
   "metadata": {},
   "outputs": [
    {
     "data": {
      "text/html": [
       "<div>\n",
       "<style scoped>\n",
       "    .dataframe tbody tr th:only-of-type {\n",
       "        vertical-align: middle;\n",
       "    }\n",
       "\n",
       "    .dataframe tbody tr th {\n",
       "        vertical-align: top;\n",
       "    }\n",
       "\n",
       "    .dataframe thead th {\n",
       "        text-align: right;\n",
       "    }\n",
       "</style>\n",
       "<table border=\"1\" class=\"dataframe\">\n",
       "  <thead>\n",
       "    <tr style=\"text-align: right;\">\n",
       "      <th></th>\n",
       "      <th>id</th>\n",
       "      <th>gender</th>\n",
       "      <th>age</th>\n",
       "      <th>hypertension</th>\n",
       "      <th>heart_disease</th>\n",
       "      <th>ever_married</th>\n",
       "      <th>work_type</th>\n",
       "      <th>avg_glucose_level</th>\n",
       "      <th>bmi</th>\n",
       "      <th>smoking_status</th>\n",
       "      <th>stroke</th>\n",
       "      <th>Urban</th>\n",
       "      <th>Rural</th>\n",
       "    </tr>\n",
       "  </thead>\n",
       "  <tbody>\n",
       "    <tr>\n",
       "      <th>0</th>\n",
       "      <td>9046</td>\n",
       "      <td>Male</td>\n",
       "      <td>67.0</td>\n",
       "      <td>0</td>\n",
       "      <td>1</td>\n",
       "      <td>Yes</td>\n",
       "      <td>1</td>\n",
       "      <td>228.69</td>\n",
       "      <td>36.6</td>\n",
       "      <td>1</td>\n",
       "      <td>1</td>\n",
       "      <td>1.0</td>\n",
       "      <td>0.0</td>\n",
       "    </tr>\n",
       "    <tr>\n",
       "      <th>1</th>\n",
       "      <td>51676</td>\n",
       "      <td>Female</td>\n",
       "      <td>61.0</td>\n",
       "      <td>0</td>\n",
       "      <td>0</td>\n",
       "      <td>Yes</td>\n",
       "      <td>1</td>\n",
       "      <td>202.21</td>\n",
       "      <td>NaN</td>\n",
       "      <td>0</td>\n",
       "      <td>1</td>\n",
       "      <td>0.0</td>\n",
       "      <td>1.0</td>\n",
       "    </tr>\n",
       "    <tr>\n",
       "      <th>2</th>\n",
       "      <td>31112</td>\n",
       "      <td>Male</td>\n",
       "      <td>80.0</td>\n",
       "      <td>0</td>\n",
       "      <td>1</td>\n",
       "      <td>Yes</td>\n",
       "      <td>1</td>\n",
       "      <td>105.92</td>\n",
       "      <td>32.5</td>\n",
       "      <td>0</td>\n",
       "      <td>1</td>\n",
       "      <td>0.0</td>\n",
       "      <td>1.0</td>\n",
       "    </tr>\n",
       "    <tr>\n",
       "      <th>3</th>\n",
       "      <td>60182</td>\n",
       "      <td>Female</td>\n",
       "      <td>49.0</td>\n",
       "      <td>0</td>\n",
       "      <td>0</td>\n",
       "      <td>Yes</td>\n",
       "      <td>1</td>\n",
       "      <td>171.23</td>\n",
       "      <td>34.4</td>\n",
       "      <td>1</td>\n",
       "      <td>1</td>\n",
       "      <td>1.0</td>\n",
       "      <td>0.0</td>\n",
       "    </tr>\n",
       "    <tr>\n",
       "      <th>4</th>\n",
       "      <td>1665</td>\n",
       "      <td>Female</td>\n",
       "      <td>79.0</td>\n",
       "      <td>1</td>\n",
       "      <td>0</td>\n",
       "      <td>Yes</td>\n",
       "      <td>1</td>\n",
       "      <td>174.12</td>\n",
       "      <td>24.0</td>\n",
       "      <td>0</td>\n",
       "      <td>1</td>\n",
       "      <td>0.0</td>\n",
       "      <td>1.0</td>\n",
       "    </tr>\n",
       "    <tr>\n",
       "      <th>...</th>\n",
       "      <td>...</td>\n",
       "      <td>...</td>\n",
       "      <td>...</td>\n",
       "      <td>...</td>\n",
       "      <td>...</td>\n",
       "      <td>...</td>\n",
       "      <td>...</td>\n",
       "      <td>...</td>\n",
       "      <td>...</td>\n",
       "      <td>...</td>\n",
       "      <td>...</td>\n",
       "      <td>...</td>\n",
       "      <td>...</td>\n",
       "    </tr>\n",
       "    <tr>\n",
       "      <th>5105</th>\n",
       "      <td>18234</td>\n",
       "      <td>Female</td>\n",
       "      <td>80.0</td>\n",
       "      <td>1</td>\n",
       "      <td>0</td>\n",
       "      <td>Yes</td>\n",
       "      <td>1</td>\n",
       "      <td>83.75</td>\n",
       "      <td>NaN</td>\n",
       "      <td>0</td>\n",
       "      <td>0</td>\n",
       "      <td>1.0</td>\n",
       "      <td>0.0</td>\n",
       "    </tr>\n",
       "    <tr>\n",
       "      <th>5106</th>\n",
       "      <td>44873</td>\n",
       "      <td>Female</td>\n",
       "      <td>81.0</td>\n",
       "      <td>0</td>\n",
       "      <td>0</td>\n",
       "      <td>Yes</td>\n",
       "      <td>1</td>\n",
       "      <td>125.20</td>\n",
       "      <td>40.0</td>\n",
       "      <td>0</td>\n",
       "      <td>0</td>\n",
       "      <td>1.0</td>\n",
       "      <td>0.0</td>\n",
       "    </tr>\n",
       "    <tr>\n",
       "      <th>5107</th>\n",
       "      <td>19723</td>\n",
       "      <td>Female</td>\n",
       "      <td>35.0</td>\n",
       "      <td>0</td>\n",
       "      <td>0</td>\n",
       "      <td>Yes</td>\n",
       "      <td>1</td>\n",
       "      <td>82.99</td>\n",
       "      <td>30.6</td>\n",
       "      <td>0</td>\n",
       "      <td>0</td>\n",
       "      <td>0.0</td>\n",
       "      <td>1.0</td>\n",
       "    </tr>\n",
       "    <tr>\n",
       "      <th>5108</th>\n",
       "      <td>37544</td>\n",
       "      <td>Male</td>\n",
       "      <td>51.0</td>\n",
       "      <td>0</td>\n",
       "      <td>0</td>\n",
       "      <td>Yes</td>\n",
       "      <td>1</td>\n",
       "      <td>166.29</td>\n",
       "      <td>25.6</td>\n",
       "      <td>1</td>\n",
       "      <td>0</td>\n",
       "      <td>0.0</td>\n",
       "      <td>1.0</td>\n",
       "    </tr>\n",
       "    <tr>\n",
       "      <th>5109</th>\n",
       "      <td>44679</td>\n",
       "      <td>Female</td>\n",
       "      <td>44.0</td>\n",
       "      <td>0</td>\n",
       "      <td>0</td>\n",
       "      <td>Yes</td>\n",
       "      <td>1</td>\n",
       "      <td>85.28</td>\n",
       "      <td>26.2</td>\n",
       "      <td>0</td>\n",
       "      <td>0</td>\n",
       "      <td>1.0</td>\n",
       "      <td>0.0</td>\n",
       "    </tr>\n",
       "  </tbody>\n",
       "</table>\n",
       "<p>5109 rows × 13 columns</p>\n",
       "</div>"
      ],
      "text/plain": [
       "         id  gender   age  hypertension  heart_disease ever_married  \\\n",
       "0      9046    Male  67.0             0              1          Yes   \n",
       "1     51676  Female  61.0             0              0          Yes   \n",
       "2     31112    Male  80.0             0              1          Yes   \n",
       "3     60182  Female  49.0             0              0          Yes   \n",
       "4      1665  Female  79.0             1              0          Yes   \n",
       "...     ...     ...   ...           ...            ...          ...   \n",
       "5105  18234  Female  80.0             1              0          Yes   \n",
       "5106  44873  Female  81.0             0              0          Yes   \n",
       "5107  19723  Female  35.0             0              0          Yes   \n",
       "5108  37544    Male  51.0             0              0          Yes   \n",
       "5109  44679  Female  44.0             0              0          Yes   \n",
       "\n",
       "      work_type  avg_glucose_level   bmi  smoking_status  stroke  Urban  Rural  \n",
       "0             1             228.69  36.6               1       1    1.0    0.0  \n",
       "1             1             202.21   NaN               0       1    0.0    1.0  \n",
       "2             1             105.92  32.5               0       1    0.0    1.0  \n",
       "3             1             171.23  34.4               1       1    1.0    0.0  \n",
       "4             1             174.12  24.0               0       1    0.0    1.0  \n",
       "...         ...                ...   ...             ...     ...    ...    ...  \n",
       "5105          1              83.75   NaN               0       0    1.0    0.0  \n",
       "5106          1             125.20  40.0               0       0    1.0    0.0  \n",
       "5107          1              82.99  30.6               0       0    0.0    1.0  \n",
       "5108          1             166.29  25.6               1       0    0.0    1.0  \n",
       "5109          1              85.28  26.2               0       0    1.0    0.0  \n",
       "\n",
       "[5109 rows x 13 columns]"
      ]
     },
     "execution_count": 12,
     "metadata": {},
     "output_type": "execute_result"
    }
   ],
   "source": [
    "df.head(5111)"
   ]
  },
  {
   "cell_type": "markdown",
   "id": "73af19f7-9f09-4207-b7aa-27848515bfea",
   "metadata": {},
   "source": [
    " ### Total Number Of Female & Male"
   ]
  },
  {
   "cell_type": "markdown",
   "id": "1133b912-337e-46b8-b05d-28b29053e548",
   "metadata": {},
   "source": [
    "### How many total number of male & female we have in our data set?\n",
    "We have 2994 females & 2115 men in our dataset"
   ]
  },
  {
   "cell_type": "code",
   "execution_count": 13,
   "id": "66ec9d26-1930-4a24-a5fe-f76874bec0c0",
   "metadata": {
    "tags": []
   },
   "outputs": [
    {
     "data": {
      "text/plain": [
       "gender\n",
       "Female    2994\n",
       "Male      2115\n",
       "dtype: int64"
      ]
     },
     "execution_count": 13,
     "metadata": {},
     "output_type": "execute_result"
    }
   ],
   "source": [
    "df.groupby('gender').size() # I am using this funtion to see total number of male and female group by gender"
   ]
  },
  {
   "cell_type": "markdown",
   "id": "e0587c03-b42f-44c9-bef4-0b4804d93a54",
   "metadata": {},
   "source": [
    "# Q1-  Who have more number of strokes among men and women?"
   ]
  },
  {
   "cell_type": "markdown",
   "id": "7d4ab3b5-3e60-4478-bc51-2d398f12dbc7",
   "metadata": {},
   "source": [
    "#### Our analysis are showing that we don't have a big difference in our numbers between men & women who have been suffered by heart stroke. But according to this analysis men have suffered more with heart stroke then women."
   ]
  },
  {
   "cell_type": "code",
   "execution_count": 14,
   "id": "86dd4e6d-719f-48c5-bf69-25c8df89a5f1",
   "metadata": {},
   "outputs": [
    {
     "data": {
      "text/plain": [
       "gender\n",
       "Female    0.047094\n",
       "Male      0.051064\n",
       "Name: stroke, dtype: float64"
      ]
     },
     "execution_count": 14,
     "metadata": {},
     "output_type": "execute_result"
    }
   ],
   "source": [
    "df.groupby(\"gender\").mean()['stroke']  # Here i am using groupby for gender & mean for taking out average of stroke between men & women\n"
   ]
  },
  {
   "cell_type": "markdown",
   "id": "34f3b22a-4f87-44ef-accc-ab3614fd4c93",
   "metadata": {},
   "source": [
    "# Q2- What could be the main reasons of heart stroke."
   ]
  },
  {
   "cell_type": "markdown",
   "id": "8b7457b7-108e-467d-b5b7-dd440d6f3ee6",
   "metadata": {},
   "source": [
    "#### 1 = Stroke & 0 = No Stroke"
   ]
  },
  {
   "cell_type": "markdown",
   "id": "1ebf186a-f63d-4e07-93ea-2166e4ed655c",
   "metadata": {},
   "source": [
    "#### We have many factor which could lead to heart  stroke. Here I took out averages of all the factors which can be the major cause of stroke. After this analysis age is one of the significant reason to have a heart stroke. People are in their 80s are more in numbers who have heart stroke."
   ]
  },
  {
   "cell_type": "markdown",
   "id": "e157504d-250a-4221-b9c5-f4d843a3e887",
   "metadata": {},
   "source": [
    "# Age?"
   ]
  },
  {
   "cell_type": "markdown",
   "id": "62d6d240-c421-4863-8a49-cd8ba421da7b",
   "metadata": {},
   "source": [
    "#### According to the result of analysis 67% people suffered from heart stroke. Which is showing that age played a significant role."
   ]
  },
  {
   "cell_type": "code",
   "execution_count": 15,
   "id": "cd2d6184-17c3-4580-a38e-5d559e253dd8",
   "metadata": {},
   "outputs": [
    {
     "data": {
      "text/plain": [
       "stroke\n",
       "0    41.974831\n",
       "1    67.728193\n",
       "Name: age, dtype: float64"
      ]
     },
     "execution_count": 15,
     "metadata": {},
     "output_type": "execute_result"
    }
   ],
   "source": [
    "df.groupby('stroke').mean()['age'] # # Here we are getting average of age and grouping by stroke to get the results"
   ]
  },
  {
   "cell_type": "code",
   "execution_count": 16,
   "id": "968308b6-133a-4418-a736-111f12aa8420",
   "metadata": {},
   "outputs": [],
   "source": [
    "df.drop(columns = ['id'], inplace=True) # id field was dropped as it had no significant reason for the anlaysis\n"
   ]
  },
  {
   "cell_type": "code",
   "execution_count": 17,
   "id": "db5f6c31-761c-4312-b35f-c6d9c8c9013a",
   "metadata": {},
   "outputs": [
    {
     "data": {
      "text/plain": [
       "<AxesSubplot:xlabel='stroke', ylabel='age'>"
      ]
     },
     "execution_count": 17,
     "metadata": {},
     "output_type": "execute_result"
    },
    {
     "data": {
      "image/png": "[encoded data removed]",
      "text/plain": [
       "<Figure size 720x576 with 1 Axes>"
      ]
     },
     "metadata": {
      "needs_background": "light"
     },
     "output_type": "display_data"
    }
   ],
   "source": [
    "import matplotlib.pyplot as plt\n",
    "\n",
    "plt.figure(figsize=(10,8)) # its for increasing figure size\n",
    "sns.barplot(data=df,x = 'stroke',y= 'age', hue = 'stroke' ) # I am creating a barplot to visualize my analysis\n"
   ]
  },
  {
   "cell_type": "markdown",
   "id": "ba7383d8-f8c4-49af-879a-5cc38b77f7f1",
   "metadata": {},
   "source": [
    "# Smoking?"
   ]
  },
  {
   "cell_type": "markdown",
   "id": "e064a38c-1374-4c02-838f-1482f731c0ec",
   "metadata": {},
   "source": [
    "#### Our analysis shows that 44% are smokers who had heart stroke. So smoking could be or could not be the reason of heart stroke."
   ]
  },
  {
   "cell_type": "code",
   "execution_count": 18,
   "id": "c64b37f1-1821-43ed-841d-3ec2aa991268",
   "metadata": {},
   "outputs": [
    {
     "data": {
      "text/plain": [
       "stroke\n",
       "0    0.321193\n",
       "1    0.449799\n",
       "Name: smoking_status, dtype: float64"
      ]
     },
     "execution_count": 18,
     "metadata": {},
     "output_type": "execute_result"
    }
   ],
   "source": [
    "df.groupby('stroke').mean()['smoking_status'] # Here we are getting average of smoking_status and grouping by stroke to get the results"
   ]
  },
  {
   "cell_type": "code",
   "execution_count": 19,
   "id": "5d7eab03-f46f-4567-923a-43df26e5f640",
   "metadata": {},
   "outputs": [
    {
     "data": {
      "text/plain": [
       "<AxesSubplot:xlabel='stroke', ylabel='smoking_status'>"
      ]
     },
     "execution_count": 19,
     "metadata": {},
     "output_type": "execute_result"
    },
    {
     "data": {
      "image/png": "[encoded data removed]",
      "text/plain": [
       "<Figure size 720x576 with 1 Axes>"
      ]
     },
     "metadata": {
      "needs_background": "light"
     },
     "output_type": "display_data"
    }
   ],
   "source": [
    "plt.figure(figsize=(10,8)) # its 15\" by 8 \"\n",
    "sns.barplot(data=df,x = 'stroke',y= 'smoking_status', hue = 'stroke' ) # I am creating a barplot to visualize my analysis"
   ]
  },
  {
   "cell_type": "markdown",
   "id": "a327a8f2-d0df-4b61-9b4a-f77335e302df",
   "metadata": {},
   "source": [
    "# Hypertention?"
   ]
  },
  {
   "cell_type": "markdown",
   "id": "f6e73260-cfe1-42b1-a6f6-e79bf19cbe09",
   "metadata": {},
   "source": [
    "#### Hypertension is also showing some connection with the heart stroke as 26% of people have hypertension who had stroke."
   ]
  },
  {
   "cell_type": "code",
   "execution_count": 20,
   "id": "b30fa860-b3d4-45f1-b73e-33575e3e8d57",
   "metadata": {},
   "outputs": [
    {
     "data": {
      "text/plain": [
       "stroke\n",
       "0    0.088889\n",
       "1    0.265060\n",
       "Name: hypertension, dtype: float64"
      ]
     },
     "execution_count": 20,
     "metadata": {},
     "output_type": "execute_result"
    }
   ],
   "source": [
    "df.groupby('stroke').mean()['hypertension'] # Here we are getting average of hypertention and grouping by stroke to get the results"
   ]
  },
  {
   "cell_type": "code",
   "execution_count": 21,
   "id": "5c3a10a1-88c4-41d0-aa86-ac753c23e703",
   "metadata": {},
   "outputs": [
    {
     "data": {
      "text/plain": [
       "<AxesSubplot:xlabel='stroke', ylabel='hypertension'>"
      ]
     },
     "execution_count": 21,
     "metadata": {},
     "output_type": "execute_result"
    },
    {
     "data": {
      "image/png": "[encoded data removed]",
      "text/plain": [
       "<Figure size 720x576 with 1 Axes>"
      ]
     },
     "metadata": {
      "needs_background": "light"
     },
     "output_type": "display_data"
    }
   ],
   "source": [
    "plt.figure(figsize=(10,8)) # its for increasing figure size\n",
    "sns.barplot(data=df,x = 'stroke',y= 'hypertension', hue = 'stroke') # I am creating a barplot to visualize my analysis"
   ]
  },
  {
   "cell_type": "markdown",
   "id": "36efd257-5ce2-4d2d-b2f6-123174e6ea2d",
   "metadata": {},
   "source": [
    "# Heart Disease"
   ]
  },
  {
   "cell_type": "markdown",
   "id": "0c1a365f-4fe4-412a-935e-e0cc0935adb8",
   "metadata": {},
   "source": [
    "#### According to this analysis it looks like heart disease could play a role in heart stroke but its not necessary that it is one of the main cause of it."
   ]
  },
  {
   "cell_type": "code",
   "execution_count": 22,
   "id": "974ea116-83fd-49f6-9bf3-413510b2a44b",
   "metadata": {},
   "outputs": [
    {
     "data": {
      "text/plain": [
       "stroke\n",
       "0    0.047119\n",
       "1    0.188755\n",
       "Name: heart_disease, dtype: float64"
      ]
     },
     "execution_count": 22,
     "metadata": {},
     "output_type": "execute_result"
    }
   ],
   "source": [
    "df.groupby('stroke').mean()['heart_disease'] # Here we are getting average of heart_disease and grouping by stroke to get the results"
   ]
  },
  {
   "cell_type": "code",
   "execution_count": 23,
   "id": "66aac7c6-4284-4639-a122-5e01f145b1bf",
   "metadata": {},
   "outputs": [
    {
     "data": {
      "text/plain": [
       "<AxesSubplot:xlabel='stroke', ylabel='heart_disease'>"
      ]
     },
     "execution_count": 23,
     "metadata": {},
     "output_type": "execute_result"
    },
    {
     "data": {
      "image/png": "[encoded data removed]",
      "text/plain": [
       "<Figure size 720x576 with 1 Axes>"
      ]
     },
     "metadata": {
      "needs_background": "light"
     },
     "output_type": "display_data"
    }
   ],
   "source": [
    "plt.figure(figsize=(10,8)) # its for increasing figure size\n",
    "sns.barplot(data=df,x = 'stroke',y= 'heart_disease', hue = 'stroke' ) # I am creating a barplot to visualize my analysis "
   ]
  },
  {
   "cell_type": "markdown",
   "id": "5ff2c75e-09f3-4ff7-84b3-f869a9ec9df2",
   "metadata": {},
   "source": [
    "# Glucose_level"
   ]
  },
  {
   "cell_type": "markdown",
   "id": "dd0c7646-f5ee-4f98-806b-3684efb01175",
   "metadata": {},
   "source": [
    "#### According to this analysis it looks like glucose level have is also effecting heart stroke condition but difference is not too much."
   ]
  },
  {
   "cell_type": "code",
   "execution_count": 24,
   "id": "d2c59827-efa0-4243-b3d2-156f66370356",
   "metadata": {},
   "outputs": [
    {
     "data": {
      "text/plain": [
       "stroke\n",
       "0    104.787584\n",
       "1    132.544739\n",
       "Name: avg_glucose_level, dtype: float64"
      ]
     },
     "execution_count": 24,
     "metadata": {},
     "output_type": "execute_result"
    }
   ],
   "source": [
    "df.groupby('stroke').mean()['avg_glucose_level'] # Here we are getting average of avg_glucose and grouping by stroke to get the results"
   ]
  },
  {
   "cell_type": "code",
   "execution_count": 25,
   "id": "20a5e992-cb15-4e67-8dd1-cc197826dda1",
   "metadata": {},
   "outputs": [
    {
     "data": {
      "text/plain": [
       "<AxesSubplot:xlabel='stroke', ylabel='avg_glucose_level'>"
      ]
     },
     "execution_count": 25,
     "metadata": {},
     "output_type": "execute_result"
    },
    {
     "data": {
      "image/png": "[encoded data removed]",
      "text/plain": [
       "<Figure size 720x576 with 1 Axes>"
      ]
     },
     "metadata": {
      "needs_background": "light"
     },
     "output_type": "display_data"
    }
   ],
   "source": [
    "plt.figure(figsize=(10,8)) # its for increasing figure size\n",
    "sns.barplot(data=df,x = 'stroke',y= 'avg_glucose_level', hue = 'stroke' ) # I am creating a barplot to visualize my analysis "
   ]
  },
  {
   "cell_type": "markdown",
   "id": "645db553-b023-4a76-8cb5-c6878b73e2b0",
   "metadata": {},
   "source": [
    "# Body Mass Index (BMI)"
   ]
  },
  {
   "cell_type": "markdown",
   "id": "a5c05c31-41b6-4ede-98f0-0ff7bb4922e3",
   "metadata": {},
   "source": [
    "#### BMI does not play much role to because a major cause of heart stroke."
   ]
  },
  {
   "cell_type": "code",
   "execution_count": 26,
   "id": "c32a42de-fae5-466e-ab73-d3be511a4bee",
   "metadata": {},
   "outputs": [
    {
     "data": {
      "text/plain": [
       "stroke\n",
       "0    28.824431\n",
       "1    30.471292\n",
       "Name: bmi, dtype: float64"
      ]
     },
     "execution_count": 26,
     "metadata": {},
     "output_type": "execute_result"
    }
   ],
   "source": [
    "df.groupby('stroke').mean()['bmi'] # Here we are getting average of bmi(body mass index) and grouping by stroke to get the results"
   ]
  },
  {
   "cell_type": "code",
   "execution_count": 27,
   "id": "3a76d670-7688-4f99-b3fb-dcec1c325faf",
   "metadata": {},
   "outputs": [
    {
     "data": {
      "text/plain": [
       "<AxesSubplot:xlabel='stroke', ylabel='bmi'>"
      ]
     },
     "execution_count": 27,
     "metadata": {},
     "output_type": "execute_result"
    },
    {
     "data": {
      "image/png": "[encoded data removed]",
      "text/plain": [
       "<Figure size 720x576 with 1 Axes>"
      ]
     },
     "metadata": {
      "needs_background": "light"
     },
     "output_type": "display_data"
    }
   ],
   "source": [
    "plt.figure(figsize=(10,8)) # its for increasing figure size\n",
    "sns.barplot(data=df,x = 'stroke',y= 'bmi', hue = 'stroke' ) # I am creating a barplot to visualize my analysis "
   ]
  },
  {
   "cell_type": "markdown",
   "id": "8fce086d-c011-4bfb-9b44-3f980bc62b27",
   "metadata": {},
   "source": [
    "# Q-3 What is the correlation between Stroke & other factors?"
   ]
  },
  {
   "cell_type": "markdown",
   "id": "746a8ada-2061-4b53-9e9f-3b8cc6bbfb7f",
   "metadata": {},
   "source": [
    "#### When i check the correlation between all the factors. It show that age has a the strongest correlation with the stroke then other factors. And if we see other factors as wll then age has the strongest correlation with them as well. So age is the main factor who has strongest impact on these factors."
   ]
  },
  {
   "cell_type": "code",
   "execution_count": 28,
   "id": "11123c5d-df9a-4182-b078-7ced7a0331bb",
   "metadata": {},
   "outputs": [
    {
     "data": {
      "text/html": [
       "<div>\n",
       "<style scoped>\n",
       "    .dataframe tbody tr th:only-of-type {\n",
       "        vertical-align: middle;\n",
       "    }\n",
       "\n",
       "    .dataframe tbody tr th {\n",
       "        vertical-align: top;\n",
       "    }\n",
       "\n",
       "    .dataframe thead th {\n",
       "        text-align: right;\n",
       "    }\n",
       "</style>\n",
       "<table border=\"1\" class=\"dataframe\">\n",
       "  <thead>\n",
       "    <tr style=\"text-align: right;\">\n",
       "      <th></th>\n",
       "      <th>age</th>\n",
       "      <th>hypertension</th>\n",
       "      <th>heart_disease</th>\n",
       "      <th>avg_glucose_level</th>\n",
       "      <th>bmi</th>\n",
       "      <th>smoking_status</th>\n",
       "      <th>stroke</th>\n",
       "      <th>Urban</th>\n",
       "      <th>Rural</th>\n",
       "    </tr>\n",
       "  </thead>\n",
       "  <tbody>\n",
       "    <tr>\n",
       "      <th>age</th>\n",
       "      <td>1.000000</td>\n",
       "      <td>0.276367</td>\n",
       "      <td>0.263777</td>\n",
       "      <td>0.238323</td>\n",
       "      <td>0.333314</td>\n",
       "      <td>0.247585</td>\n",
       "      <td>0.245239</td>\n",
       "      <td>0.014031</td>\n",
       "      <td>-0.014031</td>\n",
       "    </tr>\n",
       "    <tr>\n",
       "      <th>hypertension</th>\n",
       "      <td>0.276367</td>\n",
       "      <td>1.000000</td>\n",
       "      <td>0.108292</td>\n",
       "      <td>0.174540</td>\n",
       "      <td>0.167770</td>\n",
       "      <td>0.071610</td>\n",
       "      <td>0.127891</td>\n",
       "      <td>-0.007980</td>\n",
       "      <td>0.007980</td>\n",
       "    </tr>\n",
       "    <tr>\n",
       "      <th>heart_disease</th>\n",
       "      <td>0.263777</td>\n",
       "      <td>0.108292</td>\n",
       "      <td>1.000000</td>\n",
       "      <td>0.161907</td>\n",
       "      <td>0.041322</td>\n",
       "      <td>0.087861</td>\n",
       "      <td>0.134905</td>\n",
       "      <td>0.003045</td>\n",
       "      <td>-0.003045</td>\n",
       "    </tr>\n",
       "    <tr>\n",
       "      <th>avg_glucose_level</th>\n",
       "      <td>0.238323</td>\n",
       "      <td>0.174540</td>\n",
       "      <td>0.161907</td>\n",
       "      <td>1.000000</td>\n",
       "      <td>0.175672</td>\n",
       "      <td>0.068289</td>\n",
       "      <td>0.131991</td>\n",
       "      <td>-0.004783</td>\n",
       "      <td>0.004783</td>\n",
       "    </tr>\n",
       "    <tr>\n",
       "      <th>bmi</th>\n",
       "      <td>0.333314</td>\n",
       "      <td>0.167770</td>\n",
       "      <td>0.041322</td>\n",
       "      <td>0.175672</td>\n",
       "      <td>1.000000</td>\n",
       "      <td>0.154130</td>\n",
       "      <td>0.042341</td>\n",
       "      <td>-0.000293</td>\n",
       "      <td>0.000293</td>\n",
       "    </tr>\n",
       "    <tr>\n",
       "      <th>smoking_status</th>\n",
       "      <td>0.247585</td>\n",
       "      <td>0.071610</td>\n",
       "      <td>0.087861</td>\n",
       "      <td>0.068289</td>\n",
       "      <td>0.154130</td>\n",
       "      <td>1.000000</td>\n",
       "      <td>0.059007</td>\n",
       "      <td>0.027457</td>\n",
       "      <td>-0.027457</td>\n",
       "    </tr>\n",
       "    <tr>\n",
       "      <th>stroke</th>\n",
       "      <td>0.245239</td>\n",
       "      <td>0.127891</td>\n",
       "      <td>0.134905</td>\n",
       "      <td>0.131991</td>\n",
       "      <td>0.042341</td>\n",
       "      <td>0.059007</td>\n",
       "      <td>1.000000</td>\n",
       "      <td>0.015415</td>\n",
       "      <td>-0.015415</td>\n",
       "    </tr>\n",
       "    <tr>\n",
       "      <th>Urban</th>\n",
       "      <td>0.014031</td>\n",
       "      <td>-0.007980</td>\n",
       "      <td>0.003045</td>\n",
       "      <td>-0.004783</td>\n",
       "      <td>-0.000293</td>\n",
       "      <td>0.027457</td>\n",
       "      <td>0.015415</td>\n",
       "      <td>1.000000</td>\n",
       "      <td>-1.000000</td>\n",
       "    </tr>\n",
       "    <tr>\n",
       "      <th>Rural</th>\n",
       "      <td>-0.014031</td>\n",
       "      <td>0.007980</td>\n",
       "      <td>-0.003045</td>\n",
       "      <td>0.004783</td>\n",
       "      <td>0.000293</td>\n",
       "      <td>-0.027457</td>\n",
       "      <td>-0.015415</td>\n",
       "      <td>-1.000000</td>\n",
       "      <td>1.000000</td>\n",
       "    </tr>\n",
       "  </tbody>\n",
       "</table>\n",
       "</div>"
      ],
      "text/plain": [
       "                        age  hypertension  heart_disease  avg_glucose_level  \\\n",
       "age                1.000000      0.276367       0.263777           0.238323   \n",
       "hypertension       0.276367      1.000000       0.108292           0.174540   \n",
       "heart_disease      0.263777      0.108292       1.000000           0.161907   \n",
       "avg_glucose_level  0.238323      0.174540       0.161907           1.000000   \n",
       "bmi                0.333314      0.167770       0.041322           0.175672   \n",
       "smoking_status     0.247585      0.071610       0.087861           0.068289   \n",
       "stroke             0.245239      0.127891       0.134905           0.131991   \n",
       "Urban              0.014031     -0.007980       0.003045          -0.004783   \n",
       "Rural             -0.014031      0.007980      -0.003045           0.004783   \n",
       "\n",
       "                        bmi  smoking_status    stroke     Urban     Rural  \n",
       "age                0.333314        0.247585  0.245239  0.014031 -0.014031  \n",
       "hypertension       0.167770        0.071610  0.127891 -0.007980  0.007980  \n",
       "heart_disease      0.041322        0.087861  0.134905  0.003045 -0.003045  \n",
       "avg_glucose_level  0.175672        0.068289  0.131991 -0.004783  0.004783  \n",
       "bmi                1.000000        0.154130  0.042341 -0.000293  0.000293  \n",
       "smoking_status     0.154130        1.000000  0.059007  0.027457 -0.027457  \n",
       "stroke             0.042341        0.059007  1.000000  0.015415 -0.015415  \n",
       "Urban             -0.000293        0.027457  0.015415  1.000000 -1.000000  \n",
       "Rural              0.000293       -0.027457 -0.015415 -1.000000  1.000000  "
      ]
     },
     "execution_count": 28,
     "metadata": {},
     "output_type": "execute_result"
    }
   ],
   "source": [
    "import statsmodels.api as sm #importing this library to see correlation\n",
    "\n",
    "df[['age', 'hypertension', 'heart_disease', 'avg_glucose_level', 'bmi', 'smoking_status', 'stroke','Urban', 'Rural']].corr() # i am adding only those columns who can impact on heart stroke"
   ]
  },
  {
   "cell_type": "markdown",
   "id": "e8fbeed8-15cd-4e32-a02d-5fcce2fbacee",
   "metadata": {},
   "source": [
    "## Total count,mean, std grouped by gender."
   ]
  },
  {
   "cell_type": "code",
   "execution_count": 29,
   "id": "f0064a81-2772-4d78-bbf2-80f3757402ad",
   "metadata": {},
   "outputs": [
    {
     "data": {
      "text/html": [
       "<div>\n",
       "<style scoped>\n",
       "    .dataframe tbody tr th:only-of-type {\n",
       "        vertical-align: middle;\n",
       "    }\n",
       "\n",
       "    .dataframe tbody tr th {\n",
       "        vertical-align: top;\n",
       "    }\n",
       "\n",
       "    .dataframe thead tr th {\n",
       "        text-align: left;\n",
       "    }\n",
       "\n",
       "    .dataframe thead tr:last-of-type th {\n",
       "        text-align: right;\n",
       "    }\n",
       "</style>\n",
       "<table border=\"1\" class=\"dataframe\">\n",
       "  <thead>\n",
       "    <tr>\n",
       "      <th></th>\n",
       "      <th colspan=\"8\" halign=\"left\">age</th>\n",
       "      <th colspan=\"2\" halign=\"left\">hypertension</th>\n",
       "      <th>...</th>\n",
       "      <th colspan=\"2\" halign=\"left\">Urban</th>\n",
       "      <th colspan=\"8\" halign=\"left\">Rural</th>\n",
       "    </tr>\n",
       "    <tr>\n",
       "      <th></th>\n",
       "      <th>count</th>\n",
       "      <th>mean</th>\n",
       "      <th>std</th>\n",
       "      <th>min</th>\n",
       "      <th>25%</th>\n",
       "      <th>50%</th>\n",
       "      <th>75%</th>\n",
       "      <th>max</th>\n",
       "      <th>count</th>\n",
       "      <th>mean</th>\n",
       "      <th>...</th>\n",
       "      <th>75%</th>\n",
       "      <th>max</th>\n",
       "      <th>count</th>\n",
       "      <th>mean</th>\n",
       "      <th>std</th>\n",
       "      <th>min</th>\n",
       "      <th>25%</th>\n",
       "      <th>50%</th>\n",
       "      <th>75%</th>\n",
       "      <th>max</th>\n",
       "    </tr>\n",
       "    <tr>\n",
       "      <th>gender</th>\n",
       "      <th></th>\n",
       "      <th></th>\n",
       "      <th></th>\n",
       "      <th></th>\n",
       "      <th></th>\n",
       "      <th></th>\n",
       "      <th></th>\n",
       "      <th></th>\n",
       "      <th></th>\n",
       "      <th></th>\n",
       "      <th></th>\n",
       "      <th></th>\n",
       "      <th></th>\n",
       "      <th></th>\n",
       "      <th></th>\n",
       "      <th></th>\n",
       "      <th></th>\n",
       "      <th></th>\n",
       "      <th></th>\n",
       "      <th></th>\n",
       "      <th></th>\n",
       "    </tr>\n",
       "  </thead>\n",
       "  <tbody>\n",
       "    <tr>\n",
       "      <th>Female</th>\n",
       "      <td>2994.0</td>\n",
       "      <td>43.757395</td>\n",
       "      <td>21.966561</td>\n",
       "      <td>0.08</td>\n",
       "      <td>27.0</td>\n",
       "      <td>44.0</td>\n",
       "      <td>61.0</td>\n",
       "      <td>82.0</td>\n",
       "      <td>2994.0</td>\n",
       "      <td>0.092184</td>\n",
       "      <td>...</td>\n",
       "      <td>1.0</td>\n",
       "      <td>1.0</td>\n",
       "      <td>2994.0</td>\n",
       "      <td>0.489312</td>\n",
       "      <td>0.499969</td>\n",
       "      <td>0.0</td>\n",
       "      <td>0.0</td>\n",
       "      <td>0.0</td>\n",
       "      <td>1.0</td>\n",
       "      <td>1.0</td>\n",
       "    </tr>\n",
       "    <tr>\n",
       "      <th>Male</th>\n",
       "      <td>2115.0</td>\n",
       "      <td>42.483385</td>\n",
       "      <td>23.484066</td>\n",
       "      <td>0.08</td>\n",
       "      <td>22.0</td>\n",
       "      <td>46.0</td>\n",
       "      <td>61.0</td>\n",
       "      <td>82.0</td>\n",
       "      <td>2115.0</td>\n",
       "      <td>0.104965</td>\n",
       "      <td>...</td>\n",
       "      <td>1.0</td>\n",
       "      <td>1.0</td>\n",
       "      <td>2115.0</td>\n",
       "      <td>0.495508</td>\n",
       "      <td>0.500098</td>\n",
       "      <td>0.0</td>\n",
       "      <td>0.0</td>\n",
       "      <td>0.0</td>\n",
       "      <td>1.0</td>\n",
       "      <td>1.0</td>\n",
       "    </tr>\n",
       "  </tbody>\n",
       "</table>\n",
       "<p>2 rows × 80 columns</p>\n",
       "</div>"
      ],
      "text/plain": [
       "           age                                                      \\\n",
       "         count       mean        std   min   25%   50%   75%   max   \n",
       "gender                                                               \n",
       "Female  2994.0  43.757395  21.966561  0.08  27.0  44.0  61.0  82.0   \n",
       "Male    2115.0  42.483385  23.484066  0.08  22.0  46.0  61.0  82.0   \n",
       "\n",
       "       hypertension            ... Urban        Rural                      \\\n",
       "              count      mean  ...   75%  max   count      mean       std   \n",
       "gender                         ...                                          \n",
       "Female       2994.0  0.092184  ...   1.0  1.0  2994.0  0.489312  0.499969   \n",
       "Male         2115.0  0.104965  ...   1.0  1.0  2115.0  0.495508  0.500098   \n",
       "\n",
       "                                 \n",
       "        min  25%  50%  75%  max  \n",
       "gender                           \n",
       "Female  0.0  0.0  0.0  1.0  1.0  \n",
       "Male    0.0  0.0  0.0  1.0  1.0  \n",
       "\n",
       "[2 rows x 80 columns]"
      ]
     },
     "execution_count": 29,
     "metadata": {},
     "output_type": "execute_result"
    }
   ],
   "source": [
    "df.groupby('gender').describe() # Here i check some stats of my data"
   ]
  },
  {
   "cell_type": "markdown",
   "id": "6638dacd-fabb-4322-922f-8a889daf6f83",
   "metadata": {},
   "source": [
    "# Q-4 What age group has more number of Stroke?"
   ]
  },
  {
   "cell_type": "markdown",
   "id": "a430b8ab-328a-48a6-8989-3fa30cbb2e5d",
   "metadata": {},
   "source": [
    "#### Heart stroke mostly happened in seniors. \n",
    "- The total number of **youth** is **2**\n",
    "- The total number of **adults** is **91**\n",
    "- The total number of **senior** is **156**"
   ]
  },
  {
   "cell_type": "code",
   "execution_count": 30,
   "id": "8dedb40e-f4bb-4762-81ff-a3a084a30396",
   "metadata": {},
   "outputs": [
    {
     "name": "stdout",
     "output_type": "stream",
     "text": [
      "The total number of youth is 2\n",
      "The total number of adults is 91\n",
      "The total number of senior is 156\n"
     ]
    }
   ],
   "source": [
    "Youth = 0\n",
    "Adult = 0\n",
    "Senior = 0\n",
    "\n",
    "for i in df.index:  # With this for loop i am geting age from each row and putting them into three categories.\n",
    "    if (df.loc[i,'age'] <= 18) and df.loc[i,'stroke']==1:    # iI have use loc to locate position of my required argument\n",
    "        Youth+=1 # with this counter methos each time it will find one it will add in youth\n",
    "    elif (df.loc[i,'age'] <= 65) and df.loc[i,'stroke']==1: # i use elif for other categories\n",
    "        Adult+=1\n",
    "    elif (df.loc[i,'age'] > 65) and df.loc[i,'stroke']==1:\n",
    "        Senior+=1\n",
    "        \n",
    "print(f'The total number of youth is', Youth)  # now i am printing it to see the results\n",
    "print(f'The total number of adults is', Adult)\n",
    "print(f'The total number of senior is', Senior)\n",
    "        \n"
   ]
  },
  {
   "cell_type": "markdown",
   "id": "59d1f7d7-f4ce-4b46-a183-3fb9ff7d7bc1",
   "metadata": {},
   "source": [
    "# Q-5 What is the max age of people who have heart stroke?"
   ]
  },
  {
   "cell_type": "markdown",
   "id": "bcefee6a-65c0-43db-afed-aac2df37e9a2",
   "metadata": {},
   "source": [
    "#### The max age of people who have suffered from heart stroke is 82. "
   ]
  },
  {
   "cell_type": "code",
   "execution_count": 31,
   "id": "d9b86b79-2a11-4c27-b46b-e56e6952b66a",
   "metadata": {},
   "outputs": [
    {
     "data": {
      "text/plain": [
       "stroke\n",
       "0    82.0\n",
       "1    82.0\n",
       "Name: age, dtype: float64"
      ]
     },
     "execution_count": 31,
     "metadata": {},
     "output_type": "execute_result"
    }
   ],
   "source": [
    "df.groupby('stroke').max()['age']"
   ]
  },
  {
   "cell_type": "markdown",
   "id": "62d018a7-9c1f-4267-baf7-88e4ce8e80e1",
   "metadata": {},
   "source": [
    "### The methods choosen above was too look into each category to determine if smoking is the main reason for the heart stroke. I chose to illustrate my charts so it wouuld be easy to view the comparison between different categories."
   ]
  },
  {
   "cell_type": "markdown",
   "id": "5f15b542-56a6-45ed-b82d-57c57f961fc2",
   "metadata": {},
   "source": [
    "# ANALYSIS CONCLUSION"
   ]
  },
  {
   "cell_type": "markdown",
   "id": "d1ae7f07-e332-400d-b1ae-c8567824dbe3",
   "metadata": {},
   "source": [
    "####  My hypothesis is wrong as smoking is not the main reson which can cause heart stroke but it can play some role. According to my analysis people have more chances to get heart stroke when they get older especially after the age of 65. Also it did not prove that other medical conditions like hypertension, heart disease, smoking etch are the main reasons which can lead to heart stroke. Age is the most important reason which impact to this condition. As we saw in our anaylsis that senior are more in number who have heart stroke. So heart stoke has a strong connection with the age.  \n",
    "#### People should do daily exercise and choose healthy diet plan to avoid heart stroke and maintain a healthy life style."
   ]
  }
 ],
 "metadata": {
  "kernelspec": {
   "display_name": "Python 3 (ipykernel)",
   "language": "python",
   "name": "python3"
  },
  "language_info": {
   "codemirror_mode": {
    "name": "ipython",
    "version": 3
   },
   "file_extension": ".py",
   "mimetype": "text/x-python",
   "name": "python",
   "nbconvert_exporter": "python",
   "pygments_lexer": "ipython3",
   "version": "3.9.7"
  }
 },
 "nbformat": 4,
 "nbformat_minor": 5
}
